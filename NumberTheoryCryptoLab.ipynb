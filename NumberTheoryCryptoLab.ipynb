{
 "cells": [
  {
   "cell_type": "markdown",
   "metadata": {},
   "source": [
    "# Lab on Algebraic Structures, Cryptography, and Information Security\n"
   ]
  },
  {
   "cell_type": "code",
   "execution_count": 2,
   "metadata": {},
   "outputs": [],
   "source": [
    "import random\n",
    "import math"
   ]
  },
  {
   "cell_type": "markdown",
   "metadata": {},
   "source": [
    "\n",
    "## 1. Calculation of Euler's and Möbius functions. Finding the least common multiple of a set of numbers.\n"
   ]
  },
  {
   "cell_type": "markdown",
   "metadata": {},
   "source": [
    "### Euler's totient function:\n",
    "$$ \\phi(n) = n \\prod_{p|n} \\left(1 - \\frac{1}{p}\\right) $$\n"
   ]
  },
  {
   "cell_type": "code",
   "execution_count": 3,
   "metadata": {},
   "outputs": [],
   "source": [
    "def phi(n):\n",
    "    result = n\n",
    "    p = 2\n",
    "    while p * p <= n:\n",
    "        if n % p == 0:\n",
    "            while n % p == 0:\n",
    "                n //= p\n",
    "            result -= result // p\n",
    "        p += 1\n",
    "    if n > 1:\n",
    "        result -= result // n\n",
    "    return result"
   ]
  },
  {
   "cell_type": "code",
   "execution_count": 4,
   "metadata": {},
   "outputs": [
    {
     "name": "stdout",
     "output_type": "stream",
     "text": [
      "732040\n"
     ]
    }
   ],
   "source": [
    "n = 732041\n",
    "print(phi(n))"
   ]
  },
  {
   "cell_type": "markdown",
   "metadata": {},
   "source": [
    "### Möbius function:\n",
    "$$\\mu(n) = \\begin{cases}\n",
    "1 & \\text{if } n \\text { is a square-free positive integer with an even number of prime factors} \\\\\n",
    "-1 & \\text {if } n \\text { is a square-free positive integer with an odd number of prime factors.} \\\\\n",
    "0 & \\text{otherwise}\n",
    "\\end{cases}$$"
   ]
  },
  {
   "cell_type": "code",
   "execution_count": 5,
   "metadata": {},
   "outputs": [],
   "source": [
    "def mu(n):\n",
    "    if n == 1:\n",
    "        return 1\n",
    "    result = 1\n",
    "    p = 2\n",
    "    while n > 1:\n",
    "        if n % p == 0:\n",
    "            n //= p\n",
    "            if n % p == 0:\n",
    "                return 0\n",
    "            result = -result\n",
    "        p += 1\n",
    "    return result"
   ]
  },
  {
   "cell_type": "code",
   "execution_count": 6,
   "metadata": {},
   "outputs": [
    {
     "name": "stdout",
     "output_type": "stream",
     "text": [
      "-1\n"
     ]
    }
   ],
   "source": [
    "n = 105\n",
    "print(mu(n))"
   ]
  },
  {
   "cell_type": "markdown",
   "metadata": {},
   "source": [
    "\n",
    "### Least common multiple:\n",
    "$$\n",
    "\\text{LCM}_n(a_1, a_2, \\ldots, a_n) = \\text{LCM}(a_1, {LCM}(a_2, {LCM}(a_3, \\ldots)))\n",
    "$$\n",
    "\n",
    "$$\n",
    "\\text{LCM}(a, b) = \\frac{{a \\cdot b}}{{\\text{gcd}(a, b)}}\n",
    "$$\n",
    "\n",
    "$$\n",
    "\\text{gcd}(a, b) = \\begin{cases}\n",
    "a, & \\text{if } b = 0 \\\\\n",
    "\\text{gcd}(b, a\\mod b), & \\text{otherwise}\n",
    "\\end{cases}\n",
    "$$"
   ]
  },
  {
   "cell_type": "code",
   "execution_count": 7,
   "metadata": {},
   "outputs": [],
   "source": [
    "def gcd(a, b):\n",
    "    while b:\n",
    "        a, b = b, a % b\n",
    "    return a\n",
    "\n",
    "def lcm(a, b):\n",
    "    return a * b // gcd(a, b)\n",
    "\n",
    "def multi_lcm(numbers):\n",
    "    result = numbers[0]\n",
    "    for num in numbers[1:]:\n",
    "        result = lcm(result, num)\n",
    "\n",
    "    return result"
   ]
  },
  {
   "cell_type": "code",
   "execution_count": 8,
   "metadata": {},
   "outputs": [
    {
     "name": "stdout",
     "output_type": "stream",
     "text": [
      "600\n"
     ]
    }
   ],
   "source": [
    "numbers = [100, 200, 10, 30]\n",
    "print(multi_lcm(numbers))"
   ]
  },
  {
   "cell_type": "markdown",
   "metadata": {},
   "source": [
    "## 2. Solving a system of linear congruences (Chinese Remainder Theorem).\n",
    "$$\n",
    "x \\equiv b_1 \\pmod{m_1}\n",
    "$$\n",
    "$$\n",
    "x \\equiv b_2 \\pmod{m_2}\n",
    "$$\n",
    "$$ \\ldots $$\n",
    "\n",
    "$$\n",
    "x \\equiv b_n \\pmod{m_n}\n",
    "$$"
   ]
  },
  {
   "cell_type": "code",
   "execution_count": 9,
   "metadata": {},
   "outputs": [],
   "source": [
    "def extended_gcd(a, b):\n",
    "    if a == 0:\n",
    "        return b, 0, 1\n",
    "    else:\n",
    "        d, x, y = extended_gcd(b % a, a)\n",
    "        return d, y - (b // a) * x, x\n",
    "\n",
    "def chinese_remainder(rems, mods):\n",
    "    modulus = 1\n",
    "    for mods_i in mods:\n",
    "        modulus *= mods_i\n",
    "\n",
    "    multipliers = []\n",
    "    for i in range(len(mods)):\n",
    "        N = modulus // mods[i]\n",
    "        gcd, inverse, y = extended_gcd(N, mods[i])\n",
    "        multipliers.append(inverse * N % modulus)\n",
    "\n",
    "    result = 0\n",
    "    for multi, rems_i in zip(multipliers, rems):\n",
    "        result = (result + multi * rems_i) % modulus\n",
    "    return result"
   ]
  },
  {
   "cell_type": "code",
   "execution_count": 10,
   "metadata": {},
   "outputs": [
    {
     "name": "stdout",
     "output_type": "stream",
     "text": [
      "23\n"
     ]
    }
   ],
   "source": [
    "mods = [3, 5, 7]\n",
    "rems = [2, 3, 2]\n",
    "result = chinese_remainder(rems, mods)\n",
    "print(result)"
   ]
  },
  {
   "cell_type": "markdown",
   "metadata": {},
   "source": [
    "## 3. Calculation of Legendre symbols and Jacobi symbols"
   ]
  },
  {
   "cell_type": "markdown",
   "metadata": {},
   "source": [
    "### Calculation of Legendre symbols:\n",
    "$$\n",
    "\\left(\\frac{a}{p}\\right) =\n",
    "\\begin{cases}\n",
    "0, & \\text{if } a \\equiv 0 \\pmod{p} \\\\\n",
    "1, & \\text{if } a \\text{ is a quadratic residue modulo } p \\\\\n",
    "-1, & \\text{if } a \\text{ is a non-quadratic residue modulo } p \\\\\n",
    "\\end{cases}\n",
    "$$"
   ]
  },
  {
   "cell_type": "code",
   "execution_count": 11,
   "metadata": {},
   "outputs": [],
   "source": [
    "def legendre_symbol(a, p):\n",
    "    if a % p == 0:\n",
    "        return 0 \n",
    "    elif pow(a, (p - 1) // 2, p) == 1:\n",
    "        return 1\n",
    "    else:\n",
    "        return -1 "
   ]
  },
  {
   "cell_type": "code",
   "execution_count": 12,
   "metadata": {},
   "outputs": [
    {
     "name": "stdout",
     "output_type": "stream",
     "text": [
      "-1\n"
     ]
    }
   ],
   "source": [
    "a, p = 13, 7\n",
    "print(legendre_symbol(a, p))"
   ]
  },
  {
   "cell_type": "markdown",
   "metadata": {},
   "source": [
    "### Calculation of Jacobi symbols:\n",
    "$$ (\\frac{a}{n}) = (\\frac{a}{p_1}) \\cdot (\\frac{a}{p_2}) \\cdot (\\frac{a}{p_3}) \\cdot \\ldots \\cdot (\\frac{a}{p_k}) $$\n",
    "$$\\text{where } (\\frac{a}{p_i}) \\text{ is a legendre symbol} $$"
   ]
  },
  {
   "cell_type": "code",
   "execution_count": 13,
   "metadata": {},
   "outputs": [],
   "source": [
    "def jacobi_symbol(a, n):\n",
    "    if n <= 0 or n % 2 == 0:\n",
    "        raise ValueError(\"n must be a positive odd integer\")\n",
    "    \n",
    "    a %= n\n",
    "    t = 1\n",
    "\n",
    "    while a != 0:\n",
    "        while a % 2 == 0:\n",
    "            a /= 2\n",
    "            r = n % 8\n",
    "            if r == 3 or r == 5:\n",
    "                t = -t\n",
    "\n",
    "        a, n = n, a\n",
    "\n",
    "        if a % 4 == n % 4 == 3:\n",
    "            t = -t\n",
    "\n",
    "        a %= n\n",
    "\n",
    "    if n == 1:\n",
    "        return t\n",
    "    else:\n",
    "        return 0"
   ]
  },
  {
   "cell_type": "code",
   "execution_count": 14,
   "metadata": {},
   "outputs": [
    {
     "name": "stdout",
     "output_type": "stream",
     "text": [
      "-1\n"
     ]
    }
   ],
   "source": [
    "a = 1001\n",
    "n = 9907\n",
    "print(jacobi_symbol(a, n))"
   ]
  },
  {
   "cell_type": "markdown",
   "metadata": {},
   "source": [
    "## 4. Pollard Rho algorithm for integer factorization\n",
    "### Pollarg Rho algorithm:\n",
    "$$\n",
    "\\begin{align*}\n",
    "1. & \\text{Choose a random starting point } x \\text{ and define two functions:} \\\\\n",
    "   & \\quad f(x) = x^2 + 1 \\\\\n",
    "   & \\quad g(x) = (x^2 + 1) \\mod n, \\text{ where } n \\text{ is the integer to factor.} \\\\\n",
    "2. & \\text{Initialize two values, } y \\text{ and } d, \\text{ to 1.} \\\\\n",
    "3. & \\text{Repeatedly apply the functions } f \\text{ and } g \\text{ to } x \\text{ while updating } y \\text{ and } d \\text{ as follows:} \\\\\n",
    "   & \\quad \\text{Update } x \\text{ as } x = f(x) \\text{ and } y \\text{ as } y = g(f(x)). \\\\\n",
    "   & \\quad \\text{Calculate } d \\text{ as the greatest common divisor (GCD) of the absolute difference between } x \\text{ and } y \\text{ and } n, \\text{i.e., } d = \\text{gcd}(|x - y|, n). \\\\\n",
    "4. & \\text{Continue this process until } d \\text{ is not equal to 1, which means you've found a non-trivial factor of } n. \\\\\n",
    "\\end{align*}\n",
    "$$"
   ]
  },
  {
   "cell_type": "code",
   "execution_count": 15,
   "metadata": {},
   "outputs": [],
   "source": [
    "def f(x):\n",
    "        return (x**2 + 1) % n\n",
    "\n",
    "def pollard_rho(n):\n",
    "\n",
    "    x = random.randint(1, n - 1)\n",
    "    y = x\n",
    "    d = 1\n",
    "\n",
    "    while d == 1:\n",
    "        x = f(x)\n",
    "        y = f(f(y))\n",
    "        d = math.gcd(abs(x - y), n)\n",
    "\n",
    "    if d == n:\n",
    "        return None\n",
    "    else:\n",
    "        return d\n",
    "\n",
    "def factorize(n):\n",
    "    factors = []\n",
    "    while n > 1:\n",
    "        if n % 2 == 0:\n",
    "            factors.append(2)\n",
    "            n //= 2\n",
    "        else:\n",
    "            factor = pollard_rho(n)\n",
    "            if factor is not None:\n",
    "                factors.append(factor)\n",
    "                n //= factor\n",
    "            else:\n",
    "                factors.append(n)\n",
    "                break\n",
    "\n",
    "    return factors"
   ]
  },
  {
   "cell_type": "code",
   "execution_count": 16,
   "metadata": {},
   "outputs": [
    {
     "name": "stdout",
     "output_type": "stream",
     "text": [
      "[43, 755777507]\n"
     ]
    }
   ],
   "source": [
    "N = 32498432801\n",
    "factors = factorize(N)\n",
    "print(factors)"
   ]
  },
  {
   "cell_type": "markdown",
   "metadata": {},
   "source": [
    "## 5. Algorithm for finding the discrete logarithm: \"Baby-Step Giant-Step\" method\n",
    "$$\n",
    "\\begin{align*}\n",
    "1. & \\text{Choose a base } \\alpha, \\text{ a target } \\beta, \\text{ and a prime modulus } p. \\\\\n",
    "2. & \\text{Compute the value of } m = \\lceil \\sqrt{p} \\rceil. \\\\\n",
    "3. & \\text{Create two tables:} \\\\\n",
    "   & \\quad \\text{a. Baby table with } i = 0, 1, \\ldots, m-1 \\text{ where } \\text{baby}[i] = \\beta \\cdot \\alpha^{-i} \\mod p. \\\\\n",
    "   & \\quad \\text{b. Giant table with } i = 0, 1, \\ldots, m-1 \\text{ where } \\text{giant}[i] = \\alpha^{im} \\mod p. \\\\\n",
    "4. & \\text{For each } j = 0, 1, \\ldots, m-1: \\\\\n",
    "   & \\quad \\text{a. Check if } \\text{baby}[j] \\text{ is in the giant table.} \\\\\n",
    "   & \\quad \\text{b. If found, compute the discrete logarithm } x = jm + \\text{index of } \\text{baby}[j] \\text{ in the giant table.} \\\\\n",
    "5. & \\text{If a match is found, the discrete logarithm is } x. \\text{ Otherwise, it does not exist.}\n",
    "\\end{align*}\n",
    "$$"
   ]
  },
  {
   "cell_type": "code",
   "execution_count": 17,
   "metadata": {},
   "outputs": [],
   "source": [
    "def discrete_logarithm(a, b, p):\n",
    "    baby_steps = {}\n",
    "    m = int(p ** 0.5) + 1\n",
    "    baby = 1\n",
    "\n",
    "    for i in range(m):\n",
    "        baby_steps[baby] = i\n",
    "        baby = (baby * a) % p\n",
    "\n",
    "    giant = b\n",
    "    inv_base_m = pow(a, -m, p)\n",
    "\n",
    "    for j in range(m):\n",
    "        if giant in baby_steps:\n",
    "            return j * m + baby_steps[giant]\n",
    "        else:\n",
    "            giant = (giant * inv_base_m) % p\n",
    "\n",
    "    return None"
   ]
  },
  {
   "cell_type": "code",
   "execution_count": 18,
   "metadata": {},
   "outputs": [
    {
     "name": "stdout",
     "output_type": "stream",
     "text": [
      "4\n"
     ]
    }
   ],
   "source": [
    "a = 3\n",
    "b = 13\n",
    "p = 17\n",
    "\n",
    "result = discrete_logarithm(a, b, p)\n",
    "if result is not None:\n",
    "    print(result)\n",
    "else:\n",
    "    print(\"No solution found.\")"
   ]
  },
  {
   "cell_type": "markdown",
   "metadata": {},
   "source": [
    "## 6. Cipolla's algorithm\n",
    "\n",
    "$$\n",
    "\\begin{align*}\n",
    "1. & \\text{Compute the Legendre symbol } \\left(\\frac{a}{p}\\right) \\text{ as:} \\\\\n",
    "   & \\quad \\left(\\frac{a}{p}\\right) \\equiv a^{(p - 1) / 2} \\pmod{p} \\\\\n",
    "   & \\quad \\text{If } \\left(\\frac{a}{p}\\right) \\equiv p - 1, \\text{ then } a \\text{ is a non-quadratic residue modulo } p. \\\\\n",
    "2. & \\text{If } a \\text{ is a non-quadratic residue, no square root exists. Return None.} \\\\\n",
    "3. & \\text{Determine the factors of } p - 1: p - 1 = 2^s \\cdot t. \\\\\n",
    "4. & \\text{Find a quadratic non-residue modulo } p, \\text{ denoted as } z. \\\\\n",
    "   & \\text{Start with } z = 2 \\text{ and increment until } \\left(\\frac{z}{p}\\right) \\equiv -1. \\\\\n",
    "5. & \\text{Calculate } u = a^t \\pmod{p} \\text{ and } v = a^{(t+1)/2} \\pmod{p}. \\\\\n",
    "6. & \\text{For each } i = 1 \\text{ to } s - 1: \\\\\n",
    "   & \\quad \\text{a. Compute } x = u^2 \\pmod{p}. \\\\\n",
    "   & \\quad \\text{b. If } x \\equiv 1, \\text{ break the loop.} \\\\\n",
    "   & \\quad \\text{c. Update } u \\text{ as } u = x. \\\\\n",
    "   & \\quad \\text{d. Update } v \\text{ as } v = v \\cdot z^{2^{s - 1 - i}} \\pmod{p}. \\\\\n",
    "7. & \\text{The square root of } a \\text{ modulo } p \\text{ is } v. \\\\\n",
    "\\end{align*}\n",
    "$$\n"
   ]
  },
  {
   "cell_type": "code",
   "execution_count": 19,
   "metadata": {},
   "outputs": [],
   "source": [
    "def find_square_root(a, p):\n",
    "    if legendre_symbol(a, p) != 1:\n",
    "        return None\n",
    "    \n",
    "    s, t = 0, p - 1\n",
    "    while t % 2 == 0:\n",
    "        s += 1\n",
    "        t //= 2\n",
    "\n",
    "\n",
    "    z = 2\n",
    "    while legendre_symbol(z, p) != -1:\n",
    "        z += 1\n",
    "\n",
    "    u = pow(a, t, p)\n",
    "    v = pow(a, (t + 1) // 2, p)\n",
    "\n",
    "    for i in range(1, s):\n",
    "        x = pow(u, 2, p)\n",
    "        if x == 1:\n",
    "            break\n",
    "        u = x\n",
    "        v = (v * pow(z, 2 ** (s - 1 - i), p)) % p\n",
    "\n",
    "    return v"
   ]
  },
  {
   "cell_type": "code",
   "execution_count": 20,
   "metadata": {},
   "outputs": [
    {
     "name": "stdout",
     "output_type": "stream",
     "text": [
      "9\n"
     ]
    }
   ],
   "source": [
    "p, a = 13, 10\n",
    "\n",
    "result = find_square_root(a, p)\n",
    "if result is not None:\n",
    "    print(result)\n",
    "else:\n",
    "    print(\"No square root exists\")"
   ]
  },
  {
   "cell_type": "markdown",
   "metadata": {},
   "source": [
    "##  7. Miller-Rabin primality test \n",
    "$$\n",
    "\\begin{align*}\n",
    "1. & \\text{Choose a random integer } a \\text{ such that } 2 \\leq a \\leq n - 2. \\\\\n",
    "   \n",
    "2. & \\text{Since even numbers other than 2 cannot be prime, we skip them to save computation time.} \\\\\n",
    "   \n",
    "3. & \\text{Write } n - 1 \\text{ as } 2^r \\cdot d, \\text{ where } d \\text{ is odd.} \\\\\n",
    "   \n",
    "4. & \\text{Compute } x \\equiv a^d \\mod n. \\\\\n",
    "   \n",
    "5. & \\text{If } x \\equiv 1 \\text{ or } x \\equiv n - 1, \\text{ go to step 8.} \\\\\n",
    "   & \\text{If } x \\equiv 1, \\text{return \"composite\" as } a \\text{ is a witness for the composite nature of } n. \\\\\n",
    "   & \\text{If } x \\equiv n - 1, \\text{ go to step 8 as } a \\text{ may not be a witness for composite.} \\\\\n",
    "   \n",
    "6. & \\text{Repeat } r - 1 \\text{ times:} \\\\\n",
    "   & \\quad \\text{a. Compute } x \\equiv x^2 \\mod n. \\\\\n",
    "   & \\quad \\text{b. If } x \\equiv n - 1, \\text{ go to step 8.} \\\\\n",
    "   & \\quad \\text{c. If } x \\equiv 1, \\text{return \"composite.\"} \\\\\n",
    "   \n",
    "7. & \\text{Return \"composite.\"} \\\\\n",
    "   \n",
    "8. & \\text{Repeat steps 1 to 2 for a different random } a \\text{ (at most } k \\text{ times).} \\\\\n",
    "   \n",
    "9. & \\text{Return \"probably prime.\"} \\\\\n",
    "\\end{align*}\n",
    "$$\n",
    "\n"
   ]
  },
  {
   "cell_type": "code",
   "execution_count": 34,
   "metadata": {},
   "outputs": [],
   "source": [
    "def is_miller_rabin_prime(n, k=10):\n",
    "    if n <= 1:\n",
    "        return False\n",
    "    if n <= 3:\n",
    "        return True\n",
    "    if n % 2 == 0:\n",
    "        return False\n",
    "\n",
    "    r, d = 0, n - 1\n",
    "    while d % 2 == 0:\n",
    "        r += 1\n",
    "        d //= 2\n",
    "\n",
    "    for _ in range(k):\n",
    "        a = random.randint(2, n - 2)\n",
    "        x = pow(a, d, n)\n",
    "        if x == 1 or x == n - 1:\n",
    "            continue\n",
    "\n",
    "        for _ in range(r - 1):\n",
    "            x = pow(x, 2, n)\n",
    "            if x == n - 1:\n",
    "                break\n",
    "        else:\n",
    "            return False\n",
    "\n",
    "    return True"
   ]
  },
  {
   "cell_type": "code",
   "execution_count": 44,
   "metadata": {},
   "outputs": [
    {
     "name": "stdout",
     "output_type": "stream",
     "text": [
      "170141183460469231731687303715884105727 is likely a prime number.\n"
     ]
    }
   ],
   "source": [
    "n = 2 ** 127 - 1\n",
    "if is_miller_rabin_prime(n):\n",
    "    print(f\"{n} is likely a prime number.\")\n",
    "else:\n",
    "    print(f\"{n} is not a prime number.\")"
   ]
  },
  {
   "cell_type": "markdown",
   "metadata": {},
   "source": [
    "## 8. RSA (cryptosystem)\n",
    "$$\n",
    "\\begin{align*}\n",
    "1. & \\text{Key Generation:} \\\\\n",
    "   & - \\text{Choose two large prime numbers, } p \\text{ and } q. \\\\\n",
    "   & - \\text{Calculate the modulus } n = p \\cdot q. \\\\\n",
    "   & - \\text{Compute } \\phi(n) = (p - 1) \\cdot (q - 1). \\\\\n",
    "   & - \\text{Select a public exponent } e \\text{ such that } 1 < e < \\phi(n) \\text{ and } \\text{gcd}(e, \\phi(n)) = 1. \\\\\n",
    "   & - \\text{Calculate the private exponent } d \\text{ such that } d \\equiv e^{-1} \\mod \\phi(n). \\\\\n",
    "   & - \\text{The public key is } (n, e) \\text{, and the private key is } (n, d). \\\\\n",
    "   \n",
    "2. & \\text{Encryption:} \\\\\n",
    "   & - \\text{Given a plaintext message } M, \\text{ convert it into a numerical representation.} \\\\\n",
    "   & - \\text{Encrypt the message using the public key: } C \\equiv M^e \\mod n. \\\\\n",
    "   \n",
    "3. & \\text{Decryption:} \\\\\n",
    "   & - \\text{Given the ciphertext } C, \\text{ decrypt it using the private key: } M \\equiv C^d \\mod n. \\\\\n",
    "   & - \\text{Convert the numerical representation back to the original plaintext.}\n",
    "\\end{align*}\n",
    "$$"
   ]
  },
  {
   "cell_type": "code",
   "execution_count": 58,
   "metadata": {},
   "outputs": [],
   "source": [
    "from sympy import mod_inverse\n",
    "\n",
    "def generate_keypair(bits=512):\n",
    "    p = generate_prime(bits)\n",
    "    q = generate_prime(bits)\n",
    "    n = p * q\n",
    "    phi = (p - 1) * (q - 1)\n",
    "    e = select_public_exponent(phi)\n",
    "    d = mod_inverse(e, phi)\n",
    "    return ((n, e), (n, d))\n",
    "\n",
    "def generate_prime(bits):\n",
    "    while True:\n",
    "        potential_prime = random.getrandbits(bits)\n",
    "        if is_miller_rabin_prime(potential_prime, 20):\n",
    "            return potential_prime\n",
    "\n",
    "def select_public_exponent(phi):\n",
    "    e = random.randint(2, phi - 1)\n",
    "    while gcd(e, phi) != 1:\n",
    "        e = random.randint(2, phi - 1)\n",
    "    return e\n",
    "\n",
    "def gcd(a, b):\n",
    "    while b:\n",
    "        a, b = b, a % b\n",
    "    return a\n",
    "\n",
    "def encrypt(public_key, plaintext):\n",
    "    n, e = public_key\n",
    "    encrypted_msg = [pow(ord(char), e, n) for char in plaintext]\n",
    "    return encrypted_msg\n",
    "\n",
    "def decrypt(private_key, ciphertext):\n",
    "    n, d = private_key\n",
    "    decrypted_msg = [chr(pow(char, d, n)) for char in ciphertext]\n",
    "    return ''.join(decrypted_msg)"
   ]
  },
  {
   "cell_type": "code",
   "execution_count": 59,
   "metadata": {},
   "outputs": [
    {
     "name": "stdout",
     "output_type": "stream",
     "text": [
      "Original message: Example of text\n",
      "Encrypted message: [813872533930164155500280141082287686356440826407653893932740245088766088666415237287722935314509551833669877306572174168492634627199872888506997041450601678488207134875078270377856812491684962340257726001055654674282103601796472054747382440324266008944650151659697682457179526894564181644697612063704823932247704283014896512189010936284970463647740267124003647285373525596485422864730048339422293792157394660095635346525658110069585764433265685734443492490305541617977629079752738026410721737125765599537181411456252989198421812961052112614400342982231140387953553924788026436719355107860486411225947619437219503257, 4757499834156159897285464471087624657995598273437158841125543959401865848919781555279373902315451662901338672864082351175607257397673026428247938620387487806352375476577515773844449682665196839688072243503764098745461940010241770787433786635370601949915090237821023186617035456483688345301420537212404422698354386290178393646929965531046882630455333366570495133624005238896388029746901837613581683455062740991720484582195761462552493620291102621015238949333261686239521408754433341313525375827885299426591531759546569527868697815486699844936896850176358370646025975441835041869947443789857842803374535878167343574703, 1851856051664502890575332127707977877037837357195837037924882656218013387571913079157107485978864353175858412086863637405717857522241683990677056914003258004255840341636249919266697260054193798899717708014375764938957041807025025542385286478241535969502007631515317131705175677647866746390709708876125890141493821234195513454028708664328770787582414523491054080997799024437600638879896859433151121213791794089327538523306177767265511112472047748300939215543084550560071174650003689529524941156165222071712229633387308904555221754122016533688092223170841602548965932764765623945661525562199540074135962094979851019145, 10495800300151586184293744803092599619963651707232517060589250387675957529909978365122883026646273556841355907068727104183419262012951930024707200703248646160438407692903254288308849421984818639504515473885997161622619912439163657033034948341536898954947172741846747681899983958945129321536056363759897718465304455964609374754420292015373046250011827763267551886481824694980616051415810565645872044136802610997152542703287264940188135032261644386101965286067471811893449442770571428907298185408209950548574912070828894079703013790756179724220325334512845045456685596590134202985730609074354988479477577241923724800027, 8992611104263917881426435978996454760797365087583891520857296544389602338399324285391025411633501132672924801079394167745690984446890304046388827235220456243340891978721418490626369717151977856372129476550269700308561291600946770841577268190392956492531493634917993204208263855611317860036473403635140078306406997019550723288370314665511657056767432449515356376252313458696875301735848517648742317664304843981487702595506852874416048742117193107285579702054743031889459475467144568868347857964366034724770346747484513845558636064502057957781044495592718380214543831040960777149118101076851774584688584162221583546607, 6507242864220377846480520850109787224793284567781767236899928228934880348272135244618179117770741218824436461328937952289921211101157999038492182158872795731314069071390629662573095903086641130258060793573175824332692197287610384511239932022764257654041241666196334617412624106280362889467377201874590270832414875968157753804606034729676884397261655164770985777301002050258361052957883793905392739664801111290870950452954230398615598568041324323373295136497012022669465080287350183787732645954323115802773246126147426612924604815863912900587380576797692612362265145068765677691185981203608210394982856357767892243366, 2853003252542649976250379969093980632680070229717445165743104947071926383173129398776745102487164958049461475358885248482678688508704032169148295690764397032411279797357671308868377822178478047298318328626539643357318942013508770186916845088737932867885099791741326433180863892298619872513959955565050040756598666218336303913084980075432290750897820498310622640130984612503830855894445353974893950685089465380977487158426316252395619846269650277794897468780999174360520354764842695251339647562822848049607985398960697590723820723066534642948272365152277935309392292920141870542118677238905077179932327368526964925906, 3263332116939392491865061662397689388208110150931077795273941233141576456879934617718195098387876709037380592177614524921047899604585736232947085542199151045019684175406298476073499211144898457660106411750311301010653888839019708667961071519765572414763219684091864262694133474775382211213986301739735732762065490170816530308986342966995568444829481307145024564879083749250348522675607153762287048163968695627049814531336747712853081150349595982123877320773536328564291863751787653361267586986944099584808361351922086235651257369698339832757956369145272338467866899025188167980477473830731184620662506948015110141065, 3706954409740657990060045678908402017625665893825997127460936644552670886604998080389647661658636786874772417889000405741953201735254178758084610998269154808917654286466495456270306470377213920124739369109162847478798740787016909386269582986758866962484113091346125235707915642275192586025142194115877145718724419060132935301139011382721128339330701239354108600112965900176071230567828531531742364698119132755799250157498276327505034766266568135173434224384091955703720074768787419733677909010997655578242454151601406630121237451083596914864145604244943284001371409021243442171989070062062463357633411737505801278935, 2695205123067198307437483971982508391237425488799061516492885435030242073342189876512182401373210633441769154112103564569910890171123537589342231212157428739519500459018329487621268283029306767870778916898534206092915274933181100062406683955671909897284123384244970009852713553653901155147210829728870566204924764852944496640798974150183007773920508513886860340595373636467689561644565917885323756124551713006726523677639685951352420593944501357916460016955163304640809510373061785763497999763226102918357801084363781988984070123278898162472303143817862481751064606312102565466819442125897450658467370856405944015667, 3263332116939392491865061662397689388208110150931077795273941233141576456879934617718195098387876709037380592177614524921047899604585736232947085542199151045019684175406298476073499211144898457660106411750311301010653888839019708667961071519765572414763219684091864262694133474775382211213986301739735732762065490170816530308986342966995568444829481307145024564879083749250348522675607153762287048163968695627049814531336747712853081150349595982123877320773536328564291863751787653361267586986944099584808361351922086235651257369698339832757956369145272338467866899025188167980477473830731184620662506948015110141065, 9156419741328795942303447170831947211229026323875672621394961174275595736616797375227119627108231683459869396046967905859014086974105685133786097509028608909881553573593237402111323520925562507777970137837039221747096844012037083554962025262403160672767462061059709056564717219745403451164151976525942808990533414584803551801870011747762728934527712552997980188645372695699913276271542742529605648723521641851084383861063547186434703361226287141155634129620508763155294252254397747101097574793641764858912717230956688046176666822739607393431589700037930174632897371718583646206055630777142980401466150011524791269373, 2853003252542649976250379969093980632680070229717445165743104947071926383173129398776745102487164958049461475358885248482678688508704032169148295690764397032411279797357671308868377822178478047298318328626539643357318942013508770186916845088737932867885099791741326433180863892298619872513959955565050040756598666218336303913084980075432290750897820498310622640130984612503830855894445353974893950685089465380977487158426316252395619846269650277794897468780999174360520354764842695251339647562822848049607985398960697590723820723066534642948272365152277935309392292920141870542118677238905077179932327368526964925906, 4757499834156159897285464471087624657995598273437158841125543959401865848919781555279373902315451662901338672864082351175607257397673026428247938620387487806352375476577515773844449682665196839688072243503764098745461940010241770787433786635370601949915090237821023186617035456483688345301420537212404422698354386290178393646929965531046882630455333366570495133624005238896388029746901837613581683455062740991720484582195761462552493620291102621015238949333261686239521408754433341313525375827885299426591531759546569527868697815486699844936896850176358370646025975441835041869947443789857842803374535878167343574703, 9156419741328795942303447170831947211229026323875672621394961174275595736616797375227119627108231683459869396046967905859014086974105685133786097509028608909881553573593237402111323520925562507777970137837039221747096844012037083554962025262403160672767462061059709056564717219745403451164151976525942808990533414584803551801870011747762728934527712552997980188645372695699913276271542742529605648723521641851084383861063547186434703361226287141155634129620508763155294252254397747101097574793641764858912717230956688046176666822739607393431589700037930174632897371718583646206055630777142980401466150011524791269373]\n",
      "Decrypted message: Example of text\n"
     ]
    }
   ],
   "source": [
    "    bits = 1024\n",
    "    public_key, private_key = generate_keypair(bits)\n",
    "\n",
    "    message = \"Example of text\"\n",
    "    encrypted_message = encrypt(public_key, message)\n",
    "    decrypted_message = decrypt(private_key, encrypted_message)\n",
    "\n",
    "    print(f\"Original message: {message}\")\n",
    "    print(f\"Encrypted message: {encrypted_message}\")\n",
    "    print(f\"Decrypted message: {decrypted_message}\")"
   ]
  },
  {
   "cell_type": "markdown",
   "metadata": {},
   "source": [
    "## 9. Elliptic Curve El Gamal Cryptosystem"
   ]
  },
  {
   "cell_type": "code",
   "execution_count": null,
   "metadata": {},
   "outputs": [],
   "source": []
  },
  {
   "cell_type": "code",
   "execution_count": null,
   "metadata": {},
   "outputs": [],
   "source": []
  }
 ],
 "metadata": {
  "colab": {
   "collapsed_sections": [],
   "name": "Binary_Classification_solution.ipynb",
   "provenance": [],
   "toc_visible": true
  },
  "kernelspec": {
   "display_name": "Python 3 (ipykernel)",
   "language": "python",
   "name": "python3"
  },
  "language_info": {
   "codemirror_mode": {
    "name": "ipython",
    "version": 3
   },
   "file_extension": ".py",
   "mimetype": "text/x-python",
   "name": "python",
   "nbconvert_exporter": "python",
   "pygments_lexer": "ipython3",
   "version": "3.11.0"
  }
 },
 "nbformat": 4,
 "nbformat_minor": 4
}
