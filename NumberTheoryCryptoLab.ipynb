{
 "cells": [
  {
   "cell_type": "markdown",
   "metadata": {},
   "source": [
    "# Lab on Algebraic Structures, Cryptography, and Information Security\n"
   ]
  },
  {
   "cell_type": "code",
   "execution_count": 2,
   "metadata": {},
   "outputs": [],
   "source": [
    "import random\n",
    "import math"
   ]
  },
  {
   "cell_type": "markdown",
   "metadata": {},
   "source": [
    "\n",
    "## 1. Calculation of Euler's and Möbius functions. Finding the least common multiple of a set of numbers.\n"
   ]
  },
  {
   "cell_type": "markdown",
   "metadata": {},
   "source": [
    "### Euler's totient function:\n",
    "$$ \\phi(n) = n \\prod_{p|n} \\left(1 - \\frac{1}{p}\\right) $$\n"
   ]
  },
  {
   "cell_type": "code",
   "execution_count": 3,
   "metadata": {},
   "outputs": [],
   "source": [
    "def phi(n):\n",
    "    result = n\n",
    "    p = 2\n",
    "    while p * p <= n:\n",
    "        if n % p == 0:\n",
    "            while n % p == 0:\n",
    "                n //= p\n",
    "            result -= result // p\n",
    "        p += 1\n",
    "    if n > 1:\n",
    "        result -= result // n\n",
    "    return result"
   ]
  },
  {
   "cell_type": "code",
   "execution_count": 4,
   "metadata": {},
   "outputs": [
    {
     "name": "stdout",
     "output_type": "stream",
     "text": [
      "732040\n"
     ]
    }
   ],
   "source": [
    "n = 732041\n",
    "print(phi(n))"
   ]
  },
  {
   "cell_type": "markdown",
   "metadata": {},
   "source": [
    "### Möbius function:\n",
    "$$\\mu(n) = \\begin{cases}\n",
    "1 & \\text{if } n \\text { is a square-free positive integer with an even number of prime factors} \\\\\n",
    "-1 & \\text {if } n \\text { is a square-free positive integer with an odd number of prime factors.} \\\\\n",
    "0 & \\text{otherwise}\n",
    "\\end{cases}$$"
   ]
  },
  {
   "cell_type": "code",
   "execution_count": 5,
   "metadata": {},
   "outputs": [],
   "source": [
    "def mu(n):\n",
    "    if n == 1:\n",
    "        return 1\n",
    "    result = 1\n",
    "    p = 2\n",
    "    while n > 1:\n",
    "        if n % p == 0:\n",
    "            n //= p\n",
    "            if n % p == 0:\n",
    "                return 0\n",
    "            result = -result\n",
    "        p += 1\n",
    "    return result"
   ]
  },
  {
   "cell_type": "code",
   "execution_count": 6,
   "metadata": {},
   "outputs": [
    {
     "name": "stdout",
     "output_type": "stream",
     "text": [
      "-1\n"
     ]
    }
   ],
   "source": [
    "n = 105\n",
    "print(mu(n))"
   ]
  },
  {
   "cell_type": "markdown",
   "metadata": {},
   "source": [
    "\n",
    "### Least common multiple:\n",
    "$$\n",
    "\\text{LCM}_n(a_1, a_2, \\ldots, a_n) = \\text{LCM}(a_1, {LCM}(a_2, {LCM}(a_3, \\ldots)))\n",
    "$$\n",
    "\n",
    "$$\n",
    "\\text{LCM}(a, b) = \\frac{{a \\cdot b}}{{\\text{gcd}(a, b)}}\n",
    "$$\n",
    "\n",
    "$$\n",
    "\\text{gcd}(a, b) = \\begin{cases}\n",
    "a, & \\text{if } b = 0 \\\\\n",
    "\\text{gcd}(b, a\\mod b), & \\text{otherwise}\n",
    "\\end{cases}\n",
    "$$"
   ]
  },
  {
   "cell_type": "code",
   "execution_count": 7,
   "metadata": {},
   "outputs": [],
   "source": [
    "def gcd(a, b):\n",
    "    while b:\n",
    "        a, b = b, a % b\n",
    "    return a\n",
    "\n",
    "def lcm(a, b):\n",
    "    return a * b // gcd(a, b)\n",
    "\n",
    "def multi_lcm(numbers):\n",
    "    result = numbers[0]\n",
    "    for num in numbers[1:]:\n",
    "        result = lcm(result, num)\n",
    "\n",
    "    return result"
   ]
  },
  {
   "cell_type": "code",
   "execution_count": 8,
   "metadata": {},
   "outputs": [
    {
     "name": "stdout",
     "output_type": "stream",
     "text": [
      "600\n"
     ]
    }
   ],
   "source": [
    "numbers = [100, 200, 10, 30]\n",
    "print(multi_lcm(numbers))"
   ]
  },
  {
   "cell_type": "markdown",
   "metadata": {},
   "source": [
    "## 2. Solving a system of linear congruences (Chinese Remainder Theorem).\n",
    "$$\n",
    "x \\equiv b_1 \\pmod{m_1}\n",
    "$$\n",
    "$$\n",
    "x \\equiv b_2 \\pmod{m_2}\n",
    "$$\n",
    "$$ \\ldots $$\n",
    "\n",
    "$$\n",
    "x \\equiv b_n \\pmod{m_n}\n",
    "$$"
   ]
  },
  {
   "cell_type": "code",
   "execution_count": 9,
   "metadata": {},
   "outputs": [],
   "source": [
    "def extended_gcd(a, b):\n",
    "    if a == 0:\n",
    "        return b, 0, 1\n",
    "    else:\n",
    "        d, x, y = extended_gcd(b % a, a)\n",
    "        return d, y - (b // a) * x, x\n",
    "\n",
    "def chinese_remainder(rems, mods):\n",
    "    modulus = 1\n",
    "    for mods_i in mods:\n",
    "        modulus *= mods_i\n",
    "\n",
    "    multipliers = []\n",
    "    for i in range(len(mods)):\n",
    "        N = modulus // mods[i]\n",
    "        gcd, inverse, y = extended_gcd(N, mods[i])\n",
    "        multipliers.append(inverse * N % modulus)\n",
    "\n",
    "    result = 0\n",
    "    for multi, rems_i in zip(multipliers, rems):\n",
    "        result = (result + multi * rems_i) % modulus\n",
    "    return result"
   ]
  },
  {
   "cell_type": "code",
   "execution_count": 10,
   "metadata": {},
   "outputs": [
    {
     "name": "stdout",
     "output_type": "stream",
     "text": [
      "23\n"
     ]
    }
   ],
   "source": [
    "mods = [3, 5, 7]\n",
    "rems = [2, 3, 2]\n",
    "result = chinese_remainder(rems, mods)\n",
    "print(result)"
   ]
  },
  {
   "cell_type": "markdown",
   "metadata": {},
   "source": [
    "## 3. Calculation of Legendre symbols and Jacobi symbols"
   ]
  },
  {
   "cell_type": "markdown",
   "metadata": {},
   "source": [
    "### Calculation of Legendre symbols:\n",
    "$$\n",
    "\\left(\\frac{a}{p}\\right) =\n",
    "\\begin{cases}\n",
    "0, & \\text{if } a \\equiv 0 \\pmod{p} \\\\\n",
    "1, & \\text{if } a \\text{ is a quadratic residue modulo } p \\\\\n",
    "-1, & \\text{if } a \\text{ is a non-quadratic residue modulo } p \\\\\n",
    "\\end{cases}\n",
    "$$"
   ]
  },
  {
   "cell_type": "code",
   "execution_count": 11,
   "metadata": {},
   "outputs": [],
   "source": [
    "def legendre_symbol(a, p):\n",
    "    if a % p == 0:\n",
    "        return 0 \n",
    "    elif pow(a, (p - 1) // 2, p) == 1:\n",
    "        return 1\n",
    "    else:\n",
    "        return -1 "
   ]
  },
  {
   "cell_type": "code",
   "execution_count": 12,
   "metadata": {},
   "outputs": [
    {
     "name": "stdout",
     "output_type": "stream",
     "text": [
      "-1\n"
     ]
    }
   ],
   "source": [
    "a, p = 13, 7\n",
    "print(legendre_symbol(a, p))"
   ]
  },
  {
   "cell_type": "markdown",
   "metadata": {},
   "source": [
    "### Calculation of Jacobi symbols:\n",
    "$$ (\\frac{a}{n}) = (\\frac{a}{p_1}) \\cdot (\\frac{a}{p_2}) \\cdot (\\frac{a}{p_3}) \\cdot \\ldots \\cdot (\\frac{a}{p_k}) $$\n",
    "$$\\text{where } (\\frac{a}{p_i}) \\text{ is a legendre symbol} $$"
   ]
  },
  {
   "cell_type": "code",
   "execution_count": 13,
   "metadata": {},
   "outputs": [],
   "source": [
    "def jacobi_symbol(a, n):\n",
    "    if n <= 0 or n % 2 == 0:\n",
    "        raise ValueError(\"n must be a positive odd integer\")\n",
    "    \n",
    "    a %= n\n",
    "    t = 1\n",
    "\n",
    "    while a != 0:\n",
    "        while a % 2 == 0:\n",
    "            a /= 2\n",
    "            r = n % 8\n",
    "            if r == 3 or r == 5:\n",
    "                t = -t\n",
    "\n",
    "        a, n = n, a\n",
    "\n",
    "        if a % 4 == n % 4 == 3:\n",
    "            t = -t\n",
    "\n",
    "        a %= n\n",
    "\n",
    "    if n == 1:\n",
    "        return t\n",
    "    else:\n",
    "        return 0"
   ]
  },
  {
   "cell_type": "code",
   "execution_count": 14,
   "metadata": {},
   "outputs": [
    {
     "name": "stdout",
     "output_type": "stream",
     "text": [
      "-1\n"
     ]
    }
   ],
   "source": [
    "a = 1001\n",
    "n = 9907\n",
    "print(jacobi_symbol(a, n))"
   ]
  },
  {
   "cell_type": "markdown",
   "metadata": {},
   "source": [
    "## 4. Pollard Rho algorithm for integer factorization\n",
    "### Pollarg Rho algorithm:\n",
    "$$\n",
    "\\begin{align*}\n",
    "1. & \\text{Choose a random starting point } x \\text{ and define two functions:} \\\\\n",
    "   & \\quad f(x) = x^2 + 1 \\\\\n",
    "   & \\quad g(x) = (x^2 + 1) \\mod n, \\text{ where } n \\text{ is the integer to factor.} \\\\\n",
    "2. & \\text{Initialize two values, } y \\text{ and } d, \\text{ to 1.} \\\\\n",
    "3. & \\text{Repeatedly apply the functions } f \\text{ and } g \\text{ to } x \\text{ while updating } y \\text{ and } d \\text{ as follows:} \\\\\n",
    "   & \\quad \\text{Update } x \\text{ as } x = f(x) \\text{ and } y \\text{ as } y = g(f(x)). \\\\\n",
    "   & \\quad \\text{Calculate } d \\text{ as the greatest common divisor (GCD) of the absolute difference between } x \\text{ and } y \\text{ and } n, \\text{i.e., } d = \\text{gcd}(|x - y|, n). \\\\\n",
    "4. & \\text{Continue this process until } d \\text{ is not equal to 1, which means you've found a non-trivial factor of } n. \\\\\n",
    "\\end{align*}\n",
    "$$"
   ]
  },
  {
   "cell_type": "code",
   "execution_count": 15,
   "metadata": {},
   "outputs": [],
   "source": [
    "def f(x):\n",
    "        return (x**2 + 1) % n\n",
    "\n",
    "def pollard_rho(n):\n",
    "\n",
    "    x = random.randint(1, n - 1)\n",
    "    y = x\n",
    "    d = 1\n",
    "\n",
    "    while d == 1:\n",
    "        x = f(x)\n",
    "        y = f(f(y))\n",
    "        d = math.gcd(abs(x - y), n)\n",
    "\n",
    "    if d == n:\n",
    "        return None\n",
    "    else:\n",
    "        return d\n",
    "\n",
    "def factorize(n):\n",
    "    factors = []\n",
    "    while n > 1:\n",
    "        if n % 2 == 0:\n",
    "            factors.append(2)\n",
    "            n //= 2\n",
    "        else:\n",
    "            factor = pollard_rho(n)\n",
    "            if factor is not None:\n",
    "                factors.append(factor)\n",
    "                n //= factor\n",
    "            else:\n",
    "                factors.append(n)\n",
    "                break\n",
    "\n",
    "    return factors"
   ]
  },
  {
   "cell_type": "code",
   "execution_count": 16,
   "metadata": {},
   "outputs": [
    {
     "name": "stdout",
     "output_type": "stream",
     "text": [
      "[43, 755777507]\n"
     ]
    }
   ],
   "source": [
    "N = 32498432801\n",
    "factors = factorize(N)\n",
    "print(factors)"
   ]
  },
  {
   "cell_type": "markdown",
   "metadata": {},
   "source": [
    "## 5. Algorithm for finding the discrete logarithm: \"Baby-Step Giant-Step\" method\n",
    "$$\n",
    "\\begin{align*}\n",
    "1. & \\text{Choose a base } \\alpha, \\text{ a target } \\beta, \\text{ and a prime modulus } p. \\\\\n",
    "2. & \\text{Compute the value of } m = \\lceil \\sqrt{p} \\rceil. \\\\\n",
    "3. & \\text{Create two tables:} \\\\\n",
    "   & \\quad \\text{a. Baby table with } i = 0, 1, \\ldots, m-1 \\text{ where } \\text{baby}[i] = \\beta \\cdot \\alpha^{-i} \\mod p. \\\\\n",
    "   & \\quad \\text{b. Giant table with } i = 0, 1, \\ldots, m-1 \\text{ where } \\text{giant}[i] = \\alpha^{im} \\mod p. \\\\\n",
    "4. & \\text{For each } j = 0, 1, \\ldots, m-1: \\\\\n",
    "   & \\quad \\text{a. Check if } \\text{baby}[j] \\text{ is in the giant table.} \\\\\n",
    "   & \\quad \\text{b. If found, compute the discrete logarithm } x = jm + \\text{index of } \\text{baby}[j] \\text{ in the giant table.} \\\\\n",
    "5. & \\text{If a match is found, the discrete logarithm is } x. \\text{ Otherwise, it does not exist.}\n",
    "\\end{align*}\n",
    "$$"
   ]
  },
  {
   "cell_type": "code",
   "execution_count": 17,
   "metadata": {},
   "outputs": [],
   "source": [
    "def discrete_logarithm(a, b, p):\n",
    "    baby_steps = {}\n",
    "    m = int(p ** 0.5) + 1\n",
    "    baby = 1\n",
    "\n",
    "    for i in range(m):\n",
    "        baby_steps[baby] = i\n",
    "        baby = (baby * a) % p\n",
    "\n",
    "    giant = b\n",
    "    inv_base_m = pow(a, -m, p)\n",
    "\n",
    "    for j in range(m):\n",
    "        if giant in baby_steps:\n",
    "            return j * m + baby_steps[giant]\n",
    "        else:\n",
    "            giant = (giant * inv_base_m) % p\n",
    "\n",
    "    return None"
   ]
  },
  {
   "cell_type": "code",
   "execution_count": 18,
   "metadata": {},
   "outputs": [
    {
     "name": "stdout",
     "output_type": "stream",
     "text": [
      "4\n"
     ]
    }
   ],
   "source": [
    "a = 3\n",
    "b = 13\n",
    "p = 17\n",
    "\n",
    "result = discrete_logarithm(a, b, p)\n",
    "if result is not None:\n",
    "    print(result)\n",
    "else:\n",
    "    print(\"No solution found.\")"
   ]
  },
  {
   "cell_type": "markdown",
   "metadata": {},
   "source": [
    "## 6. Cipolla's algorithm\n",
    "\n",
    "$$\n",
    "\\begin{align*}\n",
    "1. & \\text{Compute the Legendre symbol } \\left(\\frac{a}{p}\\right) \\text{ as:} \\\\\n",
    "   & \\quad \\left(\\frac{a}{p}\\right) \\equiv a^{(p - 1) / 2} \\pmod{p} \\\\\n",
    "   & \\quad \\text{If } \\left(\\frac{a}{p}\\right) \\equiv p - 1, \\text{ then } a \\text{ is a non-quadratic residue modulo } p. \\\\\n",
    "2. & \\text{If } a \\text{ is a non-quadratic residue, no square root exists. Return None.} \\\\\n",
    "3. & \\text{Determine the factors of } p - 1: p - 1 = 2^s \\cdot t. \\\\\n",
    "4. & \\text{Find a quadratic non-residue modulo } p, \\text{ denoted as } z. \\\\\n",
    "   & \\text{Start with } z = 2 \\text{ and increment until } \\left(\\frac{z}{p}\\right) \\equiv -1. \\\\\n",
    "5. & \\text{Calculate } u = a^t \\pmod{p} \\text{ and } v = a^{(t+1)/2} \\pmod{p}. \\\\\n",
    "6. & \\text{For each } i = 1 \\text{ to } s - 1: \\\\\n",
    "   & \\quad \\text{a. Compute } x = u^2 \\pmod{p}. \\\\\n",
    "   & \\quad \\text{b. If } x \\equiv 1, \\text{ break the loop.} \\\\\n",
    "   & \\quad \\text{c. Update } u \\text{ as } u = x. \\\\\n",
    "   & \\quad \\text{d. Update } v \\text{ as } v = v \\cdot z^{2^{s - 1 - i}} \\pmod{p}. \\\\\n",
    "7. & \\text{The square root of } a \\text{ modulo } p \\text{ is } v. \\\\\n",
    "\\end{align*}\n",
    "$$\n"
   ]
  },
  {
   "cell_type": "code",
   "execution_count": 19,
   "metadata": {},
   "outputs": [],
   "source": [
    "def find_square_root(a, p):\n",
    "    if legendre_symbol(a, p) != 1:\n",
    "        return None\n",
    "    \n",
    "    s, t = 0, p - 1\n",
    "    while t % 2 == 0:\n",
    "        s += 1\n",
    "        t //= 2\n",
    "\n",
    "\n",
    "    z = 2\n",
    "    while legendre_symbol(z, p) != -1:\n",
    "        z += 1\n",
    "\n",
    "    u = pow(a, t, p)\n",
    "    v = pow(a, (t + 1) // 2, p)\n",
    "\n",
    "    for i in range(1, s):\n",
    "        x = pow(u, 2, p)\n",
    "        if x == 1:\n",
    "            break\n",
    "        u = x\n",
    "        v = (v * pow(z, 2 ** (s - 1 - i), p)) % p\n",
    "\n",
    "    return v"
   ]
  },
  {
   "cell_type": "code",
   "execution_count": 20,
   "metadata": {},
   "outputs": [
    {
     "name": "stdout",
     "output_type": "stream",
     "text": [
      "9\n"
     ]
    }
   ],
   "source": [
    "p, a = 13, 10\n",
    "\n",
    "result = find_square_root(a, p)\n",
    "if result is not None:\n",
    "    print(result)\n",
    "else:\n",
    "    print(\"No square root exists\")"
   ]
  },
  {
   "cell_type": "markdown",
   "metadata": {},
   "source": [
    "##  7. Miller-Rabin primality test \n",
    "$$\n",
    "\\begin{align*}\n",
    "1. & \\text{Choose a random integer } a \\text{ such that } 2 \\leq a \\leq n - 2. \\\\\n",
    "   \n",
    "2. & \\text{Since even numbers other than 2 cannot be prime, we skip them to save computation time.} \\\\\n",
    "   \n",
    "3. & \\text{Write } n - 1 \\text{ as } 2^r \\cdot d, \\text{ where } d \\text{ is odd.} \\\\\n",
    "   \n",
    "4. & \\text{Compute } x \\equiv a^d \\mod n. \\\\\n",
    "   \n",
    "5. & \\text{If } x \\equiv 1 \\text{ or } x \\equiv n - 1, \\text{ go to step 8.} \\\\\n",
    "   & \\text{If } x \\equiv 1, \\text{return \"composite\" as } a \\text{ is a witness for the composite nature of } n. \\\\\n",
    "   & \\text{If } x \\equiv n - 1, \\text{ go to step 8 as } a \\text{ may not be a witness for composite.} \\\\\n",
    "   \n",
    "6. & \\text{Repeat } r - 1 \\text{ times:} \\\\\n",
    "   & \\quad \\text{a. Compute } x \\equiv x^2 \\mod n. \\\\\n",
    "   & \\quad \\text{b. If } x \\equiv n - 1, \\text{ go to step 8.} \\\\\n",
    "   & \\quad \\text{c. If } x \\equiv 1, \\text{return \"composite.\"} \\\\\n",
    "   \n",
    "7. & \\text{Return \"composite.\"} \\\\\n",
    "   \n",
    "8. & \\text{Repeat steps 1 to 2 for a different random } a \\text{ (at most } k \\text{ times).} \\\\\n",
    "   \n",
    "9. & \\text{Return \"probably prime.\"} \\\\\n",
    "\\end{align*}\n",
    "$$\n",
    "\n"
   ]
  },
  {
   "cell_type": "code",
   "execution_count": 21,
   "metadata": {},
   "outputs": [],
   "source": [
    "def is_miller_rabin_prime(n, k=10):\n",
    "    if n <= 1:\n",
    "        return False\n",
    "    if n <= 3:\n",
    "        return True\n",
    "    if n % 2 == 0:\n",
    "        return False\n",
    "\n",
    "    r, d = 0, n - 1\n",
    "    while d % 2 == 0:\n",
    "        r += 1\n",
    "        d //= 2\n",
    "\n",
    "    for _ in range(k):\n",
    "        a = random.randint(2, n - 2)\n",
    "        x = pow(a, d, n)\n",
    "        if x == 1 or x == n - 1:\n",
    "            continue\n",
    "\n",
    "        for _ in range(r - 1):\n",
    "            x = pow(x, 2, n)\n",
    "            if x == n - 1:\n",
    "                break\n",
    "        else:\n",
    "            return False\n",
    "\n",
    "    return True"
   ]
  },
  {
   "cell_type": "code",
   "execution_count": 22,
   "metadata": {},
   "outputs": [
    {
     "name": "stdout",
     "output_type": "stream",
     "text": [
      "170141183460469231731687303715884105727 is likely a prime number.\n"
     ]
    }
   ],
   "source": [
    "n = 2 ** 127 - 1\n",
    "if is_miller_rabin_prime(n):\n",
    "    print(f\"{n} is likely a prime number.\")\n",
    "else:\n",
    "    print(f\"{n} is not a prime number.\")"
   ]
  },
  {
   "cell_type": "markdown",
   "metadata": {},
   "source": [
    "## 8. RSA (cryptosystem)\n",
    "$$\n",
    "\\begin{align*}\n",
    "1. & \\text{Key Generation:} \\\\\n",
    "   & - \\text{Choose two large prime numbers, } p \\text{ and } q. \\\\\n",
    "   & - \\text{Calculate the modulus } n = p \\cdot q. \\\\\n",
    "   & - \\text{Compute } \\phi(n) = (p - 1) \\cdot (q - 1). \\\\\n",
    "   & - \\text{Select a public exponent } e \\text{ such that } 1 < e < \\phi(n) \\text{ and } \\text{gcd}(e, \\phi(n)) = 1. \\\\\n",
    "   & - \\text{Calculate the private exponent } d \\text{ such that } d \\equiv e^{-1} \\mod \\phi(n). \\\\\n",
    "   & - \\text{The public key is } (n, e) \\text{, and the private key is } (n, d). \\\\\n",
    "   \n",
    "2. & \\text{Encryption:} \\\\\n",
    "   & - \\text{Given a plaintext message } M, \\text{ convert it into a numerical representation.} \\\\\n",
    "   & - \\text{Encrypt the message using the public key: } C \\equiv M^e \\mod n. \\\\\n",
    "   \n",
    "3. & \\text{Decryption:} \\\\\n",
    "   & - \\text{Given the ciphertext } C, \\text{ decrypt it using the private key: } M \\equiv C^d \\mod n. \\\\\n",
    "   & - \\text{Convert the numerical representation back to the original plaintext.}\n",
    "\\end{align*}\n",
    "$$"
   ]
  },
  {
   "cell_type": "code",
   "execution_count": 23,
   "metadata": {},
   "outputs": [],
   "source": [
    "from sympy import mod_inverse\n",
    "\n",
    "def generate_keypair(bits=512):\n",
    "    p = generate_prime(bits)\n",
    "    q = generate_prime(bits)\n",
    "    n = p * q\n",
    "    phi = (p - 1) * (q - 1)\n",
    "    e = select_public_exponent(phi)\n",
    "    d = mod_inverse(e, phi)\n",
    "    return ((n, e), (n, d))\n",
    "\n",
    "def generate_prime(bits):\n",
    "    while True:\n",
    "        potential_prime = random.getrandbits(bits)\n",
    "        if is_miller_rabin_prime(potential_prime, 20):\n",
    "            return potential_prime\n",
    "\n",
    "def select_public_exponent(phi):\n",
    "    e = random.randint(2, phi - 1)\n",
    "    while gcd(e, phi) != 1:\n",
    "        e = random.randint(2, phi - 1)\n",
    "    return e\n",
    "\n",
    "def gcd(a, b):\n",
    "    while b:\n",
    "        a, b = b, a % b\n",
    "    return a\n",
    "\n",
    "def encrypt(public_key, plaintext):\n",
    "    n, e = public_key\n",
    "    encrypted_msg = [pow(ord(char), e, n) for char in plaintext]\n",
    "    return encrypted_msg\n",
    "\n",
    "def decrypt(private_key, ciphertext):\n",
    "    n, d = private_key\n",
    "    decrypted_msg = [chr(pow(char, d, n)) for char in ciphertext]\n",
    "    return ''.join(decrypted_msg)"
   ]
  },
  {
   "cell_type": "code",
   "execution_count": 27,
   "metadata": {},
   "outputs": [
    {
     "name": "stdout",
     "output_type": "stream",
     "text": [
      "Original message: Example of text\n",
      "Encrypted message: [831209326010413285130512889650800323950298633835529212049954560223000237749872831540183748138103981299265829370727930069864416838928152471777877999942276834118549129479315503866138...\n",
      "Decrypted message: Example of text\n"
     ]
    }
   ],
   "source": [
    "    bits = 1024\n",
    "    public_key, private_key = generate_keypair(bits)\n",
    "\n",
    "    message = \"Example of text\"\n",
    "    encrypted_message = encrypt(public_key, message)\n",
    "    decrypted_message = decrypt(private_key, encrypted_message)\n",
    "\n",
    "    print(f\"Original message: {message}\")\n",
    "    print(f\"Encrypted message: {encrypted_message}\"[:200] + \"...\")\n",
    "    print(f\"Decrypted message: {decrypted_message}\")"
   ]
  },
  {
   "cell_type": "markdown",
   "metadata": {},
   "source": [
    "## 9. Elliptic Curve El Gamal Cryptosystem"
   ]
  },
  {
   "cell_type": "code",
   "execution_count": null,
   "metadata": {},
   "outputs": [],
   "source": []
  },
  {
   "cell_type": "code",
   "execution_count": null,
   "metadata": {},
   "outputs": [],
   "source": []
  }
 ],
 "metadata": {
  "colab": {
   "collapsed_sections": [],
   "name": "Binary_Classification_solution.ipynb",
   "provenance": [],
   "toc_visible": true
  },
  "kernelspec": {
   "display_name": "Python 3 (ipykernel)",
   "language": "python",
   "name": "python3"
  },
  "language_info": {
   "codemirror_mode": {
    "name": "ipython",
    "version": 3
   },
   "file_extension": ".py",
   "mimetype": "text/x-python",
   "name": "python",
   "nbconvert_exporter": "python",
   "pygments_lexer": "ipython3",
   "version": "3.11.0"
  }
 },
 "nbformat": 4,
 "nbformat_minor": 4
}
